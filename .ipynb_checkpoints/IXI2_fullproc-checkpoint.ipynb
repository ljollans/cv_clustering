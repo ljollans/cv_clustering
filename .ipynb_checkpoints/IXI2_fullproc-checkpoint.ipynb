{
 "cells": [
  {
   "cell_type": "code",
   "execution_count": 3,
   "metadata": {},
   "outputs": [],
   "source": [
    "import pickle\n",
    "import sys\n",
    "sys.path.append('/Users/lee_jollans/PycharmProjects/mdd_clustering/cv_clustering')\n",
    "from cv_clustering import clusmetwrapper\n",
    "\n",
    "filedir='/Users/lee_jollans/Projects/clustering_pilot/IXI2/act'\n",
    "savedir='/Users/lee_jollans/Projects/clustering_pilot/IXI2/act'\n",
    "with open((filedir + '/IXI2_Tc_mod_0'), 'rb') as f:\n",
    "    mod = pickle.load(f)"
   ]
  },
  {
   "cell_type": "code",
   "execution_count": null,
   "metadata": {},
   "outputs": [],
   "source": [
    "import pickle\n",
    "\n",
    "savedir = ('/Users/lee_jollans/Projects/clustering_pilot/IXI/IXI_')\n",
    "\n",
    "# presets\n",
    "sets = [\"Tc\", \"Sc\", \"TSc\", \"Tc_tc\", \"Sc_sc\", \"TSc_tsc\", \"Tct_s\", \"Scs_s\", \"Tct_Scs_s\", \"Tct_tc_s\", \"Scs_sc_s\",\n",
    "            \"Tct_Scs_tc_sc_s\"]\n",
    "\n",
    "for current_set in [11]:\n",
    "\n",
    "    for mainfold in [3]:\n",
    "        for subfold in [3]:\n",
    "            fold = (mainfold*4)+subfold\n",
    "\n",
    "            pkl_filename = (savedir + sets[current_set] + '_mod_' + str(fold))\n",
    "            print(pkl_filename)\n",
    "            with open(pkl_filename, \"rb\") as file:\n",
    "                mod = pickle.load(file)\n",
    "\n",
    "            mod.cluster_ensembles()\n",
    "            mod.cluster_ensembles_new_classification()\n",
    "\n",
    "            with open(pkl_filename, \"wb\") as file:\n",
    "                pickle.dump(mod,file)"
   ]
  }
 ],
 "metadata": {
  "kernelspec": {
   "display_name": "Python 3",
   "language": "python",
   "name": "python3"
  },
  "language_info": {
   "codemirror_mode": {
    "name": "ipython",
    "version": 3
   },
   "file_extension": ".py",
   "mimetype": "text/x-python",
   "name": "python",
   "nbconvert_exporter": "python",
   "pygments_lexer": "ipython3",
   "version": "3.7.3"
  }
 },
 "nbformat": 4,
 "nbformat_minor": 2
}
